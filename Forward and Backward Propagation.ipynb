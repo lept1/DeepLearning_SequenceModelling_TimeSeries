{
 "cells": [
  {
   "cell_type": "code",
   "execution_count": 3,
   "metadata": {},
   "outputs": [],
   "source": [
    "'''\n",
    "\n",
    "Author: Luca Pedrelli\n",
    "'''\n",
    "\n",
    "import warnings\n",
    "warnings.filterwarnings(\"ignore\")\n",
    "\n",
    "import os\n",
    "os.environ[\"CUDA_VISIBLE_DEVICES\"]=\"-1\"\n",
    "\n",
    "from matplotlib import pylab\n",
    "\n",
    "import keras\n",
    "import numpy as np\n",
    "\n",
    "np.random.seed(7)\n",
    "\n",
    "# Mean Squared Error\n",
    "def MSE(X,Y):\n",
    "    return  np.mean((X-Y)**2)"
   ]
  },
  {
   "cell_type": "code",
   "execution_count": 4,
   "metadata": {},
   "outputs": [
    {
     "name": "stdout",
     "output_type": "stream",
     "text": [
      "Downloading data from https://storage.googleapis.com/tensorflow/tf-keras-datasets/mnist.npz\n",
      "11493376/11490434 [==============================] - 4s 0us/step\n"
     ]
    }
   ],
   "source": [
    "# load dataset\n",
    "from keras.datasets import mnist\n",
    "(x_train, y_train), (x_test, y_test) = mnist.load_data()"
   ]
  },
  {
   "cell_type": "code",
   "execution_count": 9,
   "metadata": {},
   "outputs": [
    {
     "name": "stdout",
     "output_type": "stream",
     "text": [
      "5\n"
     ]
    },
    {
     "data": {
      "image/png": "[encoded data removed]",
      "text/plain": [
       "<Figure size 432x288 with 1 Axes>"
      ]
     },
     "metadata": {
      "needs_background": "light"
     },
     "output_type": "display_data"
    }
   ],
   "source": [
    "pylab.imshow(x_train[0,:,:])\n",
    "print (y_train[0,])"
   ]
  },
  {
   "cell_type": "code",
   "execution_count": 10,
   "metadata": {},
   "outputs": [
    {
     "name": "stdout",
     "output_type": "stream",
     "text": [
      "0\n"
     ]
    },
    {
     "data": {
      "image/png": "[encoded data removed]",
      "text/plain": [
       "<Figure size 432x288 with 1 Axes>"
      ]
     },
     "metadata": {
      "needs_background": "light"
     },
     "output_type": "display_data"
    }
   ],
   "source": [
    "pylab.imshow(x_train[1,:,:])\n",
    "print (y_train[1,])"
   ]
  },
  {
   "cell_type": "code",
   "execution_count": 7,
   "metadata": {},
   "outputs": [
    {
     "data": {
      "text/plain": [
       "((60000, 28, 28), (60000,))"
      ]
     },
     "execution_count": 7,
     "metadata": {},
     "output_type": "execute_result"
    }
   ],
   "source": [
    "x_train.shape, y_train.shape"
   ]
  },
  {
   "cell_type": "code",
   "execution_count": 11,
   "metadata": {},
   "outputs": [],
   "source": [
    "x_train = x_train.reshape((x_train.shape[0], x_train.shape[1]*x_train.shape[2]))\n",
    "x_test = x_test.reshape((x_test.shape[0], x_test.shape[1]*x_test.shape[2]))"
   ]
  },
  {
   "cell_type": "code",
   "execution_count": 12,
   "metadata": {},
   "outputs": [
    {
     "data": {
      "text/plain": [
       "((60000, 784), (10000, 784))"
      ]
     },
     "execution_count": 12,
     "metadata": {},
     "output_type": "execute_result"
    }
   ],
   "source": [
    "x_train.shape, x_test.shape"
   ]
  },
  {
   "cell_type": "code",
   "execution_count": 13,
   "metadata": {},
   "outputs": [],
   "source": [
    "inputs = np.concatenate([x_train, x_test], axis=0).T.astype('float32')\n",
    "targets = np.concatenate([y_train, y_test], axis=0).T.astype('float32')"
   ]
  },
  {
   "cell_type": "code",
   "execution_count": 14,
   "metadata": {},
   "outputs": [
    {
     "data": {
      "text/plain": [
       "((784, 70000), (70000,))"
      ]
     },
     "execution_count": 14,
     "metadata": {},
     "output_type": "execute_result"
    }
   ],
   "source": [
    "inputs.shape, targets.shape"
   ]
  },
  {
   "cell_type": "code",
   "execution_count": 15,
   "metadata": {},
   "outputs": [],
   "source": [
    "targets = keras.utils.to_categorical(targets, num_classes=None).T"
   ]
  },
  {
   "cell_type": "code",
   "execution_count": 16,
   "metadata": {},
   "outputs": [],
   "source": [
    "TR_indexes = range(0,50)\n",
    "VL_indexes = range(50,60)\n",
    "TS_indexes = range(60,70)\n",
    "Full_TR_indexes = list(TR_indexes) + list(VL_indexes)\n",
    "Ninputs = inputs.shape[0]\n",
    "Noutputs = targets.shape[0]\n"
   ]
  },
  {
   "cell_type": "code",
   "execution_count": 26,
   "metadata": {},
   "outputs": [],
   "source": [
    "# Create network: initialize weights from [-1,1]\n",
    "Nlayers = 2\n",
    "Neurons = 100\n",
    "\n",
    "W = []\n",
    "layers = range(Nlayers)\n",
    "for l in layers:\n",
    "    if len(layers) == 1:\n",
    "        W.append(np.random.uniform(-1,1, (Noutputs, Ninputs+1)))\n",
    "    elif l == 0:\n",
    "        W.append(np.random.uniform(-1,1, (Neurons, Ninputs+1)))\n",
    "    elif l < Nlayers-1:\n",
    "        W.append(np.random.uniform(-1,1, (Neurons, Neurons+1)))\n",
    "    else:\n",
    "        W.append(np.random.uniform(-1,1, (Noutputs, Neurons+1))) "
   ]
  },
  {
   "cell_type": "markdown",
   "metadata": {},
   "source": [
    "$O^{(L)} = \\mathbf{tanh}(W_{L} O^{(l-1)})$"
   ]
  },
  {
   "cell_type": "code",
   "execution_count": 37,
   "metadata": {},
   "outputs": [],
   "source": [
    "# Compute layers outputs\n",
    "def forward_pass(W, inputs):\n",
    "    otuputs = []\n",
    "    for l in range(len(W)):\n",
    "        if l==len(W)-1: #last layer \n",
    "            otuputs.append(W[l][:,:-1].dot(inputs) + np.expand_dims(W[l][:,-1], axis=1)) #W*input+bias\n",
    "        else:\n",
    "            otuputs.append(np.tanh(W[l][:,:-1].dot(inputs) + np.expand_dims(W[l][:,-1], axis=1)))\n",
    "            \n",
    "        inputs = otuputs[-1]\n",
    "  \n",
    "    return otuputs"
   ]
  },
  {
   "cell_type": "code",
   "execution_count": 38,
   "metadata": {},
   "outputs": [],
   "source": [
    "# Compute a gradient descent pass on a sample input\n",
    "def backward_pass(W, sample_input, single_target):\n",
    "\n",
    "    outputs = forward_pass(W, sample_input)\n",
    "\n",
    "    deltas = []\n",
    "    dWs = []\n",
    "\n",
    "    for l in reversed(range(len(W))):\n",
    "        delta = np.zeros(W[l].shape[0])\n",
    "        dW    = np.zeros(W[l].shape)\n",
    "\n",
    "        for k in range(W[l].shape[0]):\n",
    "            if l == Nlayers-1:       \n",
    "                delta[k] = (single_target[k,0] - outputs[l][k,0])   # y - output\n",
    "\n",
    "            else:\n",
    "                delta_kk = 0.0\n",
    "                for z in range(deltas[-1].shape[0]):\n",
    "                    delta_kk = delta_kk + deltas[-1][z] * W[l+1][z,k]\n",
    "\n",
    "                delta[k] = delta_kk * (1 - outputs[l][k,0]**2)\n",
    "\n",
    "            for i in range(W[l].shape[1]-1): # without bias\n",
    "                if l==0:\n",
    "                    dW[k,i] = delta[k] * sample_input[i,0]\n",
    "                else:\n",
    "                    dW[k,i] = delta[k] * outputs[l-1][i,0]\n",
    "\n",
    "            dW[k,-1] = dW[k,-1] + W[l][k,-1] # add bias\n",
    "\n",
    "        deltas.append(delta)\n",
    "        dWs.append(dW)\n",
    "    \n",
    "    return dWs\n"
   ]
  },
  {
   "cell_type": "code",
   "execution_count": 39,
   "metadata": {},
   "outputs": [
    {
     "name": "stdout",
     "output_type": "stream",
     "text": [
      "0\n",
      "1\n",
      "2\n",
      "3\n",
      "4\n",
      "5\n",
      "6\n",
      "7\n",
      "8\n",
      "9\n",
      "10\n",
      "11\n",
      "12\n",
      "13\n",
      "14\n",
      "15\n",
      "16\n",
      "17\n",
      "18\n",
      "19\n"
     ]
    }
   ],
   "source": [
    "# leraning rate\n",
    "lr = 0.0001\n",
    "epochs = 20\n",
    "errors = []\n",
    "\n",
    "for epoch in range(epochs):\n",
    "    print(epoch)\n",
    "    for p in Full_TR_indexes:\n",
    "        dWs = backward_pass(W, inputs[:,p:p+1], targets[:,p:p+1])\n",
    "        for l in reversed(range(len(W))):\n",
    "            W[Nlayers-1-l] = W[Nlayers-1-l] + lr*dWs[l]\n",
    "\n",
    "    outputs = forward_pass(W, inputs)[-1]\n",
    "    errors.append(MSE(outputs[:, Full_TR_indexes], targets[:, Full_TR_indexes]))"
   ]
  },
  {
   "cell_type": "code",
   "execution_count": 40,
   "metadata": {},
   "outputs": [
    {
     "data": {
      "text/plain": [
       "(784, 1)"
      ]
     },
     "execution_count": 40,
     "metadata": {},
     "output_type": "execute_result"
    }
   ],
   "source": [
    "inputs[:,p:p+1].shape"
   ]
  },
  {
   "cell_type": "code",
   "execution_count": 41,
   "metadata": {},
   "outputs": [
    {
     "data": {
      "text/plain": [
       "[<matplotlib.lines.Line2D at 0x7f0778e7c640>]"
      ]
     },
     "execution_count": 41,
     "metadata": {},
     "output_type": "execute_result"
    },
    {
     "data": {
      "image/png": "[encoded data removed]",
      "text/plain": [
       "<Figure size 432x288 with 1 Axes>"
      ]
     },
     "metadata": {
      "needs_background": "light"
     },
     "output_type": "display_data"
    }
   ],
   "source": [
    "# Plot Learning Curve\n",
    "pylab.plot(range(len(errors)),errors)"
   ]
  },
  {
   "cell_type": "code",
   "execution_count": 42,
   "metadata": {},
   "outputs": [
    {
     "data": {
      "text/plain": [
       "[14.846431918510774,\n",
       " 14.448665776439693,\n",
       " 14.06899584503956,\n",
       " 13.710372837754942,\n",
       " 13.345472794617203,\n",
       " 13.011361229323592,\n",
       " 12.690985119720562,\n",
       " 12.38329343317468,\n",
       " 12.087538818982567,\n",
       " 11.80304897539783,\n",
       " 11.534928983708951,\n",
       " 11.150776114486993,\n",
       " 10.864043548814138,\n",
       " 10.584268626842771,\n",
       " 10.351639609887338,\n",
       " 10.127881461529817,\n",
       " 9.912345816098684,\n",
       " 9.698494237317107,\n",
       " 9.542062335197416,\n",
       " 9.337424973541742]"
      ]
     },
     "execution_count": 42,
     "metadata": {},
     "output_type": "execute_result"
    }
   ],
   "source": [
    "errors"
   ]
  },
  {
   "cell_type": "code",
   "execution_count": 43,
   "metadata": {},
   "outputs": [
    {
     "data": {
      "text/plain": [
       "9.337424973541742"
      ]
     },
     "execution_count": 43,
     "metadata": {},
     "output_type": "execute_result"
    }
   ],
   "source": [
    "# Training Loss Error\n",
    "MSE(forward_pass(W, inputs)[-1][:,Full_TR_indexes],targets[:,Full_TR_indexes])"
   ]
  },
  {
   "cell_type": "code",
   "execution_count": 44,
   "metadata": {},
   "outputs": [
    {
     "data": {
      "text/plain": [
       "0.13333333333333333"
      ]
     },
     "execution_count": 44,
     "metadata": {},
     "output_type": "execute_result"
    }
   ],
   "source": [
    "#Train accuracy\n",
    "np.mean(np.argmax(forward_pass(W, inputs)[-1][:,Full_TR_indexes], axis=0)==np.argmax(targets[:,Full_TR_indexes], axis=0))"
   ]
  },
  {
   "cell_type": "code",
   "execution_count": null,
   "metadata": {},
   "outputs": [],
   "source": []
  }
 ],
 "metadata": {
  "kernelspec": {
   "display_name": "Python 3",
   "language": "python",
   "name": "python3"
  },
  "language_info": {
   "codemirror_mode": {
    "name": "ipython",
    "version": 3
   },
   "file_extension": ".py",
   "mimetype": "text/x-python",
   "name": "python",
   "nbconvert_exporter": "python",
   "pygments_lexer": "ipython3",
   "version": "3.8.5"
  },
  "varInspector": {
   "cols": {
    "lenName": 16,
    "lenType": 16,
    "lenVar": 40
   },
   "kernels_config": {
    "python": {
     "delete_cmd_postfix": "",
     "delete_cmd_prefix": "del ",
     "library": "var_list.py",
     "varRefreshCmd": "print(var_dic_list())"
    },
    "r": {
     "delete_cmd_postfix": ") ",
     "delete_cmd_prefix": "rm(",
     "library": "var_list.r",
     "varRefreshCmd": "cat(var_dic_list()) "
    }
   },
   "types_to_exclude": [
    "module",
    "function",
    "builtin_function_or_method",
    "instance",
    "_Feature"
   ],
   "window_display": false
  }
 },
 "nbformat": 4,
 "nbformat_minor": 2
}
